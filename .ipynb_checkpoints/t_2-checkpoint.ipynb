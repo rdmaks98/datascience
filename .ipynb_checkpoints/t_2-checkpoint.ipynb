{
 "cells": [
  {
   "cell_type": "code",
   "execution_count": 1,
   "id": "biblical-timing",
   "metadata": {},
   "outputs": [
    {
     "name": "stdout",
     "output_type": "stream",
     "text": [
      "<class 'pandas.core.frame.DataFrame'>\n",
      "RangeIndex: 3044 entries, 0 to 3043\n",
      "Data columns (total 10 columns):\n",
      " #   Column             Non-Null Count  Dtype \n",
      "---  ------             --------------  ----- \n",
      " 0   Sr No              3044 non-null   int64 \n",
      " 1   Date dd/mm/yyyy    3044 non-null   object\n",
      " 2   Startup Name       3044 non-null   object\n",
      " 3   Industry Vertical  2873 non-null   object\n",
      " 4   SubVertical        2108 non-null   object\n",
      " 5   City  Location     2864 non-null   object\n",
      " 6   Investors Name     3020 non-null   object\n",
      " 7   InvestmentnType    3040 non-null   object\n",
      " 8   Amount in USD      2084 non-null   object\n",
      " 9   Remarks            419 non-null    object\n",
      "dtypes: int64(1), object(9)\n",
      "memory usage: 237.9+ KB\n",
      "None\n"
     ]
    }
   ],
   "source": [
    "import pandas as pd\n",
    "import matplotlib.pyplot as plt\n",
    "import seaborn as sn\n",
    "import numpy as np\n",
    "import os\n",
    "import re\n",
    "funding = pd.read_csv(\"D:\\MCA\\sem4\\DS\\india_funding1.csv\")\n",
    "print(funding.info())"
   ]
  },
  {
   "cell_type": "code",
   "execution_count": 5,
   "id": "considered-despite",
   "metadata": {},
   "outputs": [
    {
     "name": "stdout",
     "output_type": "stream",
     "text": [
      "               index  Industry Vertical\n",
      "0  Consumer Internet                941\n",
      "1         Technology                478\n",
      "2          eCommerce                186\n",
      "3         Healthcare                 70\n",
      "4            Finance                 62\n",
      "5          ECommerce                 61\n",
      "6          Logistics                 32\n",
      "7         E-Commerce                 29\n",
      "8          Education                 24\n",
      "9    Food & Beverage                 23\n"
     ]
    }
   ],
   "source": [
    "# Top 10 industries which are favourite of Investors\n",
    "id = funding['Industry Vertical'].value_counts()[:10].reset_index()\n",
    "print(id)"
   ]
  },
  {
   "cell_type": "code",
   "execution_count": 8,
   "id": "structured-report",
   "metadata": {},
   "outputs": [
    {
     "data": {
      "image/png": "[encoded data removed]",
      "text/plain": [
       "<Figure size 720x360 with 1 Axes>"
      ]
     },
     "metadata": {
      "needs_background": "light"
     },
     "output_type": "display_data"
    },
    {
     "data": {
      "text/html": [
       "<div>\n",
       "<style scoped>\n",
       "    .dataframe tbody tr th:only-of-type {\n",
       "        vertical-align: middle;\n",
       "    }\n",
       "\n",
       "    .dataframe tbody tr th {\n",
       "        vertical-align: top;\n",
       "    }\n",
       "\n",
       "    .dataframe thead th {\n",
       "        text-align: right;\n",
       "    }\n",
       "</style>\n",
       "<table border=\"1\" class=\"dataframe\">\n",
       "  <thead>\n",
       "    <tr style=\"text-align: right;\">\n",
       "      <th>Sub Industry</th>\n",
       "      <th>Data Analytics platform</th>\n",
       "      <th>Education</th>\n",
       "      <th>Algorithmic Trading</th>\n",
       "      <th>IT</th>\n",
       "      <th>Big Data Analytics Platform</th>\n",
       "      <th>Digital Payment Platform</th>\n",
       "      <th>Online Advertising Solutions</th>\n",
       "      <th>Health Technology platform</th>\n",
       "      <th>Clinical Imaging Solution Provider</th>\n",
       "      <th>EduTech Platform</th>\n",
       "    </tr>\n",
       "  </thead>\n",
       "  <tbody>\n",
       "    <tr>\n",
       "      <th>Number of times</th>\n",
       "      <td>3</td>\n",
       "      <td>3</td>\n",
       "      <td>2</td>\n",
       "      <td>2</td>\n",
       "      <td>2</td>\n",
       "      <td>2</td>\n",
       "      <td>1</td>\n",
       "      <td>1</td>\n",
       "      <td>1</td>\n",
       "      <td>1</td>\n",
       "    </tr>\n",
       "  </tbody>\n",
       "</table>\n",
       "</div>"
      ],
      "text/plain": [
       "Sub Industry     Data Analytics platform  Education  Algorithmic Trading  IT  \\\n",
       "Number of times                        3          3                    2   2   \n",
       "\n",
       "Sub Industry     Big Data Analytics Platform  Digital Payment Platform  \\\n",
       "Number of times                            2                         2   \n",
       "\n",
       "Sub Industry     Online Advertising Solutions  Health Technology platform  \\\n",
       "Number of times                             1                           1   \n",
       "\n",
       "Sub Industry     Clinical Imaging Solution Provider  EduTech Platform  \n",
       "Number of times                                   1                 1  "
      ]
     },
     "execution_count": 8,
     "metadata": {},
     "output_type": "execute_result"
    }
   ],
   "source": [
    "# Top 10 Sub-industries in Technology industry according to number of times Investors invested in Startups.\n",
    "temp_df = funding[funding['Industry Vertical'].isin(['Technology','technology'])]\n",
    "temp_df = temp_df['SubVertical'].value_counts()[:10].reset_index()\n",
    "temp_df.columns = ['Sub Industry', 'Number of times']\n",
    "temp_df.set_index('Sub Industry', drop=True, inplace=True)\n",
    "temp_df.plot(kind='bar', figsize=(10,5),xlabel=\"number of times\",title=\"Sub-industries in Technology industry according to number of times Investors invested in Startups.\",color=\"green\")\n",
    "plt.show()\n",
    "temp_df.T\n"
   ]
  },
  {
   "cell_type": "code",
   "execution_count": null,
   "id": "complete-cooler",
   "metadata": {},
   "outputs": [],
   "source": []
  }
 ],
 "metadata": {
  "kernelspec": {
   "display_name": "Python 3",
   "language": "python",
   "name": "python3"
  },
  "language_info": {
   "codemirror_mode": {
    "name": "ipython",
    "version": 3
   },
   "file_extension": ".py",
   "mimetype": "text/x-python",
   "name": "python",
   "nbconvert_exporter": "python",
   "pygments_lexer": "ipython3",
   "version": "3.8.0"
  }
 },
 "nbformat": 4,
 "nbformat_minor": 5
}
