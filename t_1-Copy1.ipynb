{
 "cells": [
  {
   "cell_type": "code",
   "execution_count": 1,
   "id": "computational-warrior",
   "metadata": {},
   "outputs": [],
   "source": [
    "import pandas as pd\n",
    "import matplotlib.pyplot as plt\n",
    "import seaborn as sn\n",
    "import numpy as np\n",
    "import os\n",
    "import re"
   ]
  },
  {
   "cell_type": "code",
   "execution_count": 2,
   "id": "robust-sapphire",
   "metadata": {},
   "outputs": [
    {
     "name": "stdout",
     "output_type": "stream",
     "text": [
      "<class 'pandas.core.frame.DataFrame'>\n",
      "RangeIndex: 3044 entries, 0 to 3043\n",
      "Data columns (total 9 columns):\n",
      " #   Column          Non-Null Count  Dtype \n",
      "---  ------          --------------  ----- \n",
      " 0   Sr No           3044 non-null   int64 \n",
      " 1   Date            3044 non-null   object\n",
      " 2   StartupName     3044 non-null   object\n",
      " 3   Industry        2873 non-null   object\n",
      " 4   SubVertical     2108 non-null   object\n",
      " 5   Location        2867 non-null   object\n",
      " 6   Investors       3041 non-null   object\n",
      " 7   InvestmentType  3040 non-null   object\n",
      " 8   Amount          3043 non-null   object\n",
      "dtypes: int64(1), object(8)\n",
      "memory usage: 214.2+ KB\n",
      "None\n"
     ]
    }
   ],
   "source": [
    "funding = pd.read_csv(\"D:\\MCA\\sem4\\DS\\india_funding1.csv\")\n",
    "print(funding.info())"
   ]
  },
  {
   "cell_type": "code",
   "execution_count": 4,
   "id": "following-vacuum",
   "metadata": {},
   "outputs": [
    {
     "ename": "NameError",
     "evalue": "name 'funding' is not defined",
     "output_type": "error",
     "traceback": [
      "\u001b[1;31m---------------------------------------------------------------------------\u001b[0m",
      "\u001b[1;31mNameError\u001b[0m                                 Traceback (most recent call last)",
      "\u001b[1;32m<ipython-input-4-7fce48a42cb4>\u001b[0m in \u001b[0;36m<module>\u001b[1;34m\u001b[0m\n\u001b[0;32m      1\u001b[0m \u001b[1;31m# Q2). Top 10 Startups which are attrative means they have maximum number of Investors.\u001b[0m\u001b[1;33m\u001b[0m\u001b[1;33m\u001b[0m\u001b[1;33m\u001b[0m\u001b[0m\n\u001b[0;32m      2\u001b[0m \u001b[1;33m\u001b[0m\u001b[0m\n\u001b[1;32m----> 3\u001b[1;33m funding['StartupName'].value_counts()[:10].plot(kind='bar', figsize=(12,4),xlabel=\"Startup name\",\n\u001b[0m\u001b[0;32m      4\u001b[0m                                                 ylabel=\"No. of funding Made\",title=\"Number of Funding on startup name\",color=\"pink\")\n\u001b[0;32m      5\u001b[0m \u001b[0mplt\u001b[0m\u001b[1;33m.\u001b[0m\u001b[0mshow\u001b[0m\u001b[1;33m(\u001b[0m\u001b[1;33m)\u001b[0m\u001b[1;33m\u001b[0m\u001b[1;33m\u001b[0m\u001b[0m\n",
      "\u001b[1;31mNameError\u001b[0m: name 'funding' is not defined"
     ]
    }
   ],
   "source": [
    "# Q2). Top 10 Startups which are attrative means they have maximum number of Investors.\n",
    "\n",
    "funding['StartupName'].value_counts()[:10].plot(kind='bar', figsize=(12,4),xlabel=\"Startup name\",\n",
    "                                                ylabel=\"No. of funding Made\",title=\"Number of Funding on startup name\",color=\"pink\")\n",
    "plt.show()"
   ]
  },
  {
   "cell_type": "code",
   "execution_count": null,
   "id": "developmental-burden",
   "metadata": {},
   "outputs": [],
   "source": []
  }
 ],
 "metadata": {
  "kernelspec": {
   "display_name": "Python 3",
   "language": "python",
   "name": "python3"
  },
  "language_info": {
   "codemirror_mode": {
    "name": "ipython",
    "version": 3
   },
   "file_extension": ".py",
   "mimetype": "text/x-python",
   "name": "python",
   "nbconvert_exporter": "python",
   "pygments_lexer": "ipython3",
   "version": "3.8.0"
  }
 },
 "nbformat": 4,
 "nbformat_minor": 5
}
